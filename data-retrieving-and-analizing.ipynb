{
 "cells": [
  {
   "cell_type": "markdown",
   "metadata": {},
   "source": [
    "<h1>Analysis of blood types data retrieved by process of webscraping<h1>"
   ]
  },
  {
   "cell_type": "code",
   "execution_count": 5,
   "metadata": {},
   "outputs": [],
   "source": [
    "#imports\n",
    "\n",
    "from selenium import webdriver\n",
    "import pandas as pd\n",
    "import seaborn as sns\n",
    "import matplotlib.pyplot as plt\n",
    "import html.parser\n",
    "from bs4 import *\n",
    "import re"
   ]
  },
  {
   "cell_type": "code",
   "execution_count": 10,
   "metadata": {
    "scrolled": true
   },
   "outputs": [
    {
     "name": "stdout",
     "output_type": "stream",
     "text": [
      "     Country Population     O+     A+     B+   AB+    O-    A-    B-   AB-\n",
      "0  Argentina   44270440   45.4  34.26   8.59  2.64   8.4  0.44  0.21  0.06\n",
      "1    Armênia    2931568   29.0   46.3   12.0   5.6   2.0   3.7   1.0   0.4\n",
      "2  Austrália   24642693   40.0   31.0    8.0   2.0   9.0   7.0   2.0   1.0\n",
      "3    Áustria    8592470   30.0   33.0   12.0   6.0   7.0   8.0   3.0   1.0\n",
      "4      Barém    1418695  48.48  19.35  22.61  3.67  3.27  1.33  1.04  0.25\n"
     ]
    }
   ],
   "source": [
    "#webscraping and organizing data\n",
    "\n",
    "driver = webdriver.Chrome(executable_path='C:\\Python39\\Scripts\\chromedriver')\n",
    "\n",
    "driver.get('https://pt.wikipedia.org/wiki/Distribui%C3%A7%C3%A3o_do_tipo_sangu%C3%ADneo_por_pa%C3%ADs')\n",
    "content = driver.page_source\n",
    "soup = BeautifulSoup(content, 'html.parser')\n",
    "\n",
    "countryNames = []\n",
    "countryNamesTreated = []\n",
    "population = []\n",
    "bloodTypes = []\n",
    "bloodTypesTreated = []\n",
    "\n",
    "# O1 = O+\n",
    "# A1 = A+\n",
    "# B1 = B+\n",
    "# AB1 = AB+\n",
    "# O2 = O-\n",
    "# A2 = A-\n",
    "# B2 = B-\n",
    "# AB2 = AB-\n",
    "\n",
    "\n",
    "for a in soup.find_all('tbody'):\n",
    "    for b in a.find_all('tr'):\n",
    "        for c in b.find_all('td'):\n",
    "            c = re.sub(r\"[\\n\\t\\s]*\", \"\", c.get_text())\n",
    "            if c == 'Aboriginal people':\n",
    "                break\n",
    "                \n",
    "            else:\n",
    "                bloodTypes.append(c)\n",
    "            \n",
    "        for d in b.find_all('th'):\n",
    "            countryNames.append(d.get_text())\n",
    "    break\n",
    "            \n",
    "for i in countryNames:\n",
    "    if i[0] == \" \":\n",
    "        i = i[1:]\n",
    "        i = re.sub(r\"[\\n]\", \"\", i)\n",
    "        country = i.split(\"[\")[0]\n",
    "        countryNamesTreated.append(country)\n",
    "            \n",
    "    else:\n",
    "        i = re.sub(r\"[\\n]\", \"\", i)\n",
    "        country = i.split(\"[\")[0]\n",
    "        countryNamesTreated.append(country) \n",
    "        \n",
    "for i in bloodTypes:\n",
    "    if i[-1] == '%':\n",
    "        bloodTypesTreated.append(i.replace(\"%\", \"\"))\n",
    "        \n",
    "    else:\n",
    "        population.append(i.replace(\",\", \"\"))\n",
    "\n",
    "if countryNamesTreated[0] != 'Argentina':\n",
    "    countryNamesTreated = countryNamesTreated[10:]\n",
    "\n",
    "else:\n",
    "    pass\n",
    "        \n",
    "O1 = bloodTypesTreated[::8]\n",
    "A1 = bloodTypesTreated[1::8]\n",
    "B1 = bloodTypesTreated[2::8]\n",
    "AB1 = bloodTypesTreated[3::8]\n",
    "O2 = bloodTypesTreated[4::8]\n",
    "A2 = bloodTypesTreated[5::8]\n",
    "B2 = bloodTypesTreated[6::8]\n",
    "AB2 = bloodTypesTreated[7::8]\n",
    "\n",
    "driver.quit()\n",
    "\n",
    "indict = {\"Country\":countryNamesTreated, \"Population\":population, \"O+\":O1, \"A+\":A1, \"B+\":B1, \"AB+\":AB1, \"O-\":O2, \"A-\":A2, \"B-\":B2, \"AB-\":AB2}\n",
    "\n",
    "df = pd.DataFrame.from_dict(data=indict)\n",
    "print(df.head())\n",
    "df.to_csv(path_or_buf=\"./dataframe.csv\")"
   ]
  },
  {
   "cell_type": "code",
   "execution_count": 13,
   "metadata": {},
   "outputs": [
    {
     "name": "stdout",
     "output_type": "stream",
     "text": [
      "           Population     O+     A+     B+   AB+    O-    A-    B-   AB-\n",
      "Country                                                                 \n",
      "Argentina    44270440  45.40  34.26   8.59  2.64  8.40  0.44  0.21  0.06\n",
      "Armênia       2931568  29.00  46.30  12.00  5.60  2.00  3.70  1.00  0.40\n",
      "Austrália    24642693  40.00  31.00   8.00  2.00  9.00  7.00  2.00  1.00\n",
      "Áustria       8592470  30.00  33.00  12.00  6.00  7.00  8.00  3.00  1.00\n",
      "Barém         1418695  48.48  19.35  22.61  3.67  3.27  1.33  1.04  0.25\n"
     ]
    },
    {
     "data": {
      "image/png": "[encoded data removed]",
      "text/plain": [
       "<Figure size 432x288 with 2 Axes>"
      ]
     },
     "metadata": {},
     "output_type": "display_data"
    }
   ],
   "source": [
    "#organizing data to fit heatmap and creating it\n",
    "\n",
    "df = pd.read_csv('./dataframe.csv', index_col=[0])\n",
    "df = df.set_index('Country')\n",
    "print(df.head())\n",
    "df = df.sort_values(by='Population', ascending=False)\n",
    "df = df.drop(['Population'], axis=1)\n",
    "df = df.drop(['Mundo'], axis=0)\n",
    "df = df.head()\n",
    "sns.heatmap(data=df, annot=True)\n",
    "plt.xlabel(\"Blood Types\")\n",
    "plt.title(\"Percentage of blood types for the five most populous countries\")\n",
    "fig = plt.figure(1)\n",
    "rect = fig.patch\n",
    "rect.set_facecolor(\"white\")\n",
    "plt.savefig(\"bloodtypesheatmap.png\", bbox_inches=\"tight\", facecolor=fig.get_facecolor())"
   ]
  },
  {
   "cell_type": "code",
   "execution_count": null,
   "metadata": {},
   "outputs": [],
   "source": []
  }
 ],
 "metadata": {
  "kernelspec": {
   "display_name": "Python 3",
   "language": "python",
   "name": "python3"
  },
  "language_info": {
   "codemirror_mode": {
    "name": "ipython",
    "version": 3
   },
   "file_extension": ".py",
   "mimetype": "text/x-python",
   "name": "python",
   "nbconvert_exporter": "python",
   "pygments_lexer": "ipython3",
   "version": "3.8.5"
  }
 },
 "nbformat": 4,
 "nbformat_minor": 1
}
